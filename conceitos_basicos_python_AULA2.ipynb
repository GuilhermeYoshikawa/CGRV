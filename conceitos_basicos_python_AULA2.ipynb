{
  "nbformat": 4,
  "nbformat_minor": 0,
  "metadata": {
    "colab": {
      "name": "conceitos_basicos_python_AULA2.ipynb",
      "provenance": [],
      "collapsed_sections": []
    },
    "kernelspec": {
      "name": "python3",
      "display_name": "Python 3"
    },
    "language_info": {
      "name": "python"
    }
  },
  "cells": [
    {
      "cell_type": "markdown",
      "metadata": {
        "id": "WYma31JMLmKJ"
      },
      "source": [
        "## Funções"
      ]
    },
    {
      "cell_type": "code",
      "metadata": {
        "id": "4PPcrwPPLdOM"
      },
      "source": [
        "def soma(a, b):\n",
        "  return a + b"
      ],
      "execution_count": null,
      "outputs": []
    },
    {
      "cell_type": "code",
      "metadata": {
        "id": "_MRiV9JOLSlI"
      },
      "source": [
        "def soma(a, b):\n",
        "  c = a + b\n",
        "  return c"
      ],
      "execution_count": null,
      "outputs": []
    },
    {
      "cell_type": "code",
      "metadata": {
        "id": "RlNCSud8L0jF"
      },
      "source": [
        "soma = lambda a, b : a + b"
      ],
      "execution_count": null,
      "outputs": []
    },
    {
      "cell_type": "code",
      "metadata": {
        "colab": {
          "base_uri": "https://localhost:8080/"
        },
        "id": "t1yb1W4aL7Lu",
        "outputId": "1540084b-0a5f-449d-a5bc-c7adf7cb0b35"
      },
      "source": [
        "resposta = soma(35, 4)\n",
        "print(resposta)"
      ],
      "execution_count": null,
      "outputs": [
        {
          "output_type": "stream",
          "text": [
            "39\n"
          ],
          "name": "stdout"
        }
      ]
    },
    {
      "cell_type": "code",
      "metadata": {
        "colab": {
          "base_uri": "https://localhost:8080/"
        },
        "id": "nwcMun7bMltb",
        "outputId": "bccbb8d1-b67d-4256-c485-cf560adcb341"
      },
      "source": [
        "def soma(a, b):\n",
        "  return a + b\n",
        "\n",
        "resposta = soma(35, 4)\n",
        "print(resposta)\n",
        "\n",
        "sub = lambda a,b : a-b\n",
        "resposta = sub(35, 4)\n",
        "print(resposta)"
      ],
      "execution_count": null,
      "outputs": [
        {
          "output_type": "stream",
          "text": [
            "39\n",
            "31\n"
          ],
          "name": "stdout"
        }
      ]
    },
    {
      "cell_type": "markdown",
      "metadata": {
        "id": "tsZb4PwhOVJB"
      },
      "source": [
        "## Entrada de dados"
      ]
    },
    {
      "cell_type": "code",
      "metadata": {
        "colab": {
          "base_uri": "https://localhost:8080/"
        },
        "id": "qcCQnBueOYIX",
        "outputId": "e9fb8c54-e810-4850-cc37-7dc053f3103b"
      },
      "source": [
        "def leitura():\n",
        "  nome = input(\"Digite seu nome: \")\n",
        "  sobrenome = input(\"Digite seu sobrenome: \")\n",
        "  nomecompleto = nome + \" \" + sobrenome\n",
        "  print(\"Seu nome completo eh: \", nomecompleto)\n",
        "\n",
        "leitura()"
      ],
      "execution_count": null,
      "outputs": [
        {
          "output_type": "stream",
          "text": [
            "Digite seu nome: Guilherme\n",
            "Digite seu sobrenome: Silva\n",
            "Seu nome completo eh:  Guilherme Silva\n"
          ],
          "name": "stdout"
        }
      ]
    },
    {
      "cell_type": "markdown",
      "metadata": {
        "id": "QJEcC9pEQljX"
      },
      "source": [
        "## Entrada de dados - int"
      ]
    },
    {
      "cell_type": "code",
      "metadata": {
        "colab": {
          "base_uri": "https://localhost:8080/"
        },
        "id": "sHjSerZuQG9O",
        "outputId": "1fbc30c6-b97f-4a60-bbd8-c780b4765520"
      },
      "source": [
        "def potencia(a,b):\n",
        "  c = a ** b\n",
        "  return c\n",
        "\n",
        "x = int(input(\"Digite um valor: \"))\n",
        "y = int(input(\"Digite o valor da potência: \"))\n",
        "\n",
        "print(potencia(x,y))"
      ],
      "execution_count": null,
      "outputs": [
        {
          "output_type": "stream",
          "text": [
            "Digite um valor: 5\n",
            "Digite o valor da potência: 2\n",
            "25\n"
          ],
          "name": "stdout"
        }
      ]
    },
    {
      "cell_type": "markdown",
      "metadata": {
        "id": "IhAv6c-iS7U-"
      },
      "source": [
        "## Entrada de dados - float"
      ]
    },
    {
      "cell_type": "code",
      "metadata": {
        "colab": {
          "base_uri": "https://localhost:8080/"
        },
        "id": "8mYesxUZQtcw",
        "outputId": "198fe715-8f8a-4379-e1db-a75af4cb7e69"
      },
      "source": [
        "def soma(a,b):\n",
        "  c = a + b\n",
        "  return c\n",
        "\n",
        "x = float(input(\"Digite um valor: \"))\n",
        "y = float(input(\"DIgite um valor: \"))\n",
        "\n",
        "print(soma(x,y))"
      ],
      "execution_count": null,
      "outputs": [
        {
          "output_type": "stream",
          "text": [
            "Digite um valor: 4\n",
            "DIgite um valor: 4\n",
            "8.0\n"
          ],
          "name": "stdout"
        }
      ]
    },
    {
      "cell_type": "markdown",
      "metadata": {
        "id": "1HD0rnj6VLrU"
      },
      "source": [
        "##Formatação para String"
      ]
    },
    {
      "cell_type": "code",
      "metadata": {
        "colab": {
          "base_uri": "https://localhost:8080/"
        },
        "id": "sGJJgSIUVLQS",
        "outputId": "61898ff4-2296-43a6-be1a-beafa7d35663"
      },
      "source": [
        "s = 'Teste String'\n",
        "\n",
        "print(\"{0:>20}\".format(s)) # alinha a direita com 20 espaços em branco\n",
        "print(\"{0:#>20}\".format(s)) # alinha a direita com 20 símbolos\n",
        "print(\"{0:^20}\".format(s)) # alinha ao centro com 10 \" \" a esquerda e 10 \" \" a direita\n",
        "print(\"{0:.5}\".format(s)) # imprime só as primeiras cinco letras\n"
      ],
      "execution_count": null,
      "outputs": [
        {
          "output_type": "stream",
          "text": [
            "        Teste String\n",
            "########Teste String\n",
            "    Teste String    \n",
            "Teste\n"
          ],
          "name": "stdout"
        }
      ]
    },
    {
      "cell_type": "markdown",
      "metadata": {
        "id": "_E0gccooZFyN"
      },
      "source": [
        "## Formatação para números"
      ]
    },
    {
      "cell_type": "code",
      "metadata": {
        "colab": {
          "base_uri": "https://localhost:8080/"
        },
        "id": "WLfnrrBzZIRO",
        "outputId": "1647798d-6f5c-40bf-c400-6b5db33c0afc"
      },
      "source": [
        "print(\"{0:4}\".format(-123)) # aparece '-123'\n",
        "print(\"{0:4}\".format(123)) # aparece ' 123'\n",
        "print(\"{0:4.2f}\".format(33.3287)) # aparece '33.33'\n",
        "print(\"{0:+4.2f}\".format(33.3287)) # aparece '+33.33'\n",
        "print(\"{0:+4.2e}\".format(33.3287)) # aparece '+3.33e+01'\n",
        "print(\"{0:b}\".format(123)) # aparece '1111011'"
      ],
      "execution_count": null,
      "outputs": [
        {
          "output_type": "stream",
          "text": [
            "-123\n",
            " 123\n",
            "33.33\n",
            "+33.33\n",
            "+3.33e+01\n",
            "1111011\n"
          ],
          "name": "stdout"
        }
      ]
    },
    {
      "cell_type": "markdown",
      "metadata": {
        "id": "Xt6NXNPYbbMg"
      },
      "source": [
        "## Estrutura de decisão (Condicionais)"
      ]
    },
    {
      "cell_type": "markdown",
      "metadata": {
        "id": "zasx6fhkbiWD"
      },
      "source": [
        "## Condicionais - IF"
      ]
    },
    {
      "cell_type": "code",
      "metadata": {
        "colab": {
          "base_uri": "https://localhost:8080/"
        },
        "id": "KgPoQ5vJbaWH",
        "outputId": "3d01a646-a8e3-4d48-b37a-69a5981cc8d5"
      },
      "source": [
        "nota = float(input(\"Digite sua nota da UC: \"))\n",
        "\n",
        "if nota >= 7.0:\n",
        "  print('Aprovado!')"
      ],
      "execution_count": null,
      "outputs": [
        {
          "output_type": "stream",
          "text": [
            "Digite sua nota da UC: 9.5\n",
            "Aprovado!\n"
          ],
          "name": "stdout"
        }
      ]
    }
  ]
}