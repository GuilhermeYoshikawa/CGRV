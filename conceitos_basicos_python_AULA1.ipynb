{
  "nbformat": 4,
  "nbformat_minor": 0,
  "metadata": {
    "colab": {
      "name": "conceitos_basicos_python_AULA1.ipynb",
      "provenance": []
    },
    "kernelspec": {
      "name": "python3",
      "display_name": "Python 3"
    }
  },
  "cells": [
    {
      "cell_type": "code",
      "metadata": {
        "colab": {
          "base_uri": "https://localhost:8080/"
        },
        "id": "Tge9UW-EOxhe",
        "outputId": "1e6fd7e0-1ca6-41c0-fa2b-180a10442962"
      },
      "source": [
        "print (\"Hello Word\")"
      ],
      "execution_count": null,
      "outputs": [
        {
          "output_type": "stream",
          "text": [
            "Hello Word\n"
          ],
          "name": "stdout"
        }
      ]
    },
    {
      "cell_type": "markdown",
      "metadata": {
        "id": "BS5VL2IzhezW"
      },
      "source": [
        "## Operadores númericos"
      ]
    },
    {
      "cell_type": "code",
      "metadata": {
        "colab": {
          "base_uri": "https://localhost:8080/"
        },
        "id": "jFLnZT2VQjmS",
        "outputId": "c8423c8f-5698-4cd0-87df-271035302892"
      },
      "source": [
        "## Comando para adicionar mais um campo de código no colab\n",
        "## ctrl + m + b\n",
        "\n",
        "x = 3\n",
        "print(type(x)) # Mostra \"<class 'int'>\"\n",
        "print(x) # Mostra o 3\n",
        "print(x + 1) # Adiciona e mostra \"4\"\n",
        "print(x - 1) # Subtrai e mostra \"2\"\n",
        "print(x * 2) # Multiplica e mostra \"6\"\n",
        "print(x ** 2) # Faz a exponenciação e mostra \"9\"\n",
        "\n",
        "x += 1\n",
        "print(x) # Mostra \"4\"\n",
        "\n",
        "x *= 2\n",
        "print(x) # Mostra \"8\"\n",
        "\n",
        "y = 2.5\n",
        "print(type(y)) # Mostra \"<class 'flaot'>\"\n",
        "\n",
        "print(y, y + 1, y * 2, y ** 2) # Mostra \"2.5 3.5 5.0 6.25\""
      ],
      "execution_count": null,
      "outputs": [
        {
          "output_type": "stream",
          "text": [
            "<class 'int'>\n",
            "3\n",
            "4\n",
            "2\n",
            "6\n",
            "9\n",
            "4\n",
            "8\n",
            "<class 'float'>\n",
            "2.5 3.5 5.0 6.25\n"
          ],
          "name": "stdout"
        }
      ]
    },
    {
      "cell_type": "markdown",
      "metadata": {
        "id": "y3hH61ZWUUpe"
      },
      "source": [
        "## Operadores lógicos"
      ]
    },
    {
      "cell_type": "code",
      "metadata": {
        "colab": {
          "base_uri": "https://localhost:8080/"
        },
        "id": "o1ZHChMDSlxX",
        "outputId": "f7a7e7c8-9277-4595-a83d-2a2844590a82"
      },
      "source": [
        "t = True\n",
        "f = False\n",
        "print(type(t)) # Mostra \"<class 'bool'>\"\n",
        "print(t and f) # Trabalha o operador AND e mostra \"false\"\n",
        "print(t or f) # Trabalha o operador OR e mostra \"True\"\n",
        "print(not t) # Trabalha o operador NOT e mostra \"False\"\n",
        "print(t != f) # Trabalha o operador XOR (ou exclusivo) e mostra \"True\""
      ],
      "execution_count": null,
      "outputs": [
        {
          "output_type": "stream",
          "text": [
            "<class 'bool'>\n",
            "False\n",
            "True\n",
            "False\n",
            "True\n"
          ],
          "name": "stdout"
        }
      ]
    },
    {
      "cell_type": "markdown",
      "metadata": {
        "id": "W7W01lsoVg2-"
      },
      "source": [
        "## Strings"
      ]
    },
    {
      "cell_type": "code",
      "metadata": {
        "colab": {
          "base_uri": "https://localhost:8080/"
        },
        "id": "v2h-G2RnVf8O",
        "outputId": "e4a6016f-fbde-4eb9-b824-a09b3310964e"
      },
      "source": [
        "nome = 'Hanamichi Sakuragi'\n",
        "print(nome)\n",
        "n = 'Sakuragi'\n",
        "sn = 'Hanamichi'\n",
        "nc = n + ' ' + sn\n",
        "print(nc)"
      ],
      "execution_count": null,
      "outputs": [
        {
          "output_type": "stream",
          "text": [
            "Hanamichi Sakuragi\n",
            "Sakuragi Hanamichi\n"
          ],
          "name": "stdout"
        }
      ]
    },
    {
      "cell_type": "markdown",
      "metadata": {
        "id": "WIPcQaMLW70g"
      },
      "source": [
        "## Manipulação de Strings"
      ]
    },
    {
      "cell_type": "code",
      "metadata": {
        "colab": {
          "base_uri": "https://localhost:8080/"
        },
        "id": "Kfa5CgWCW_LS",
        "outputId": "5cc59c76-99b0-495a-db53-8b77a87e90b6"
      },
      "source": [
        "hello = 'hello' # String literais se usa aspa simples\n",
        "world = 'world' # ou aspas dupla indiferentemente\n",
        "print(hello) # Mostra \"hello\"\n",
        "print(len(hello)) # Identidica o tamanho da String e mosta \"5\"\n",
        "\n",
        "hw = hello + ' ' + world # Operador \"+\" concatena Strings\n",
        "print(hw) # Mostra \"hello world\"\n",
        "\n",
        "hw12 = '%s %s %d' % (hello, world, 12) # formata como o printf da linguagem C\n",
        "print(hw12) # Mostra \"hello world 12\"\n",
        "\n",
        "hw12 = '{} {} {}'.format(hello, world, 12)\n",
        "print(hw12) # Mostra \"hello world 12\"\n",
        "\n",
        "s = \"hello\"\n",
        "print(s.capitalize()) # Coloca em maiúsculo a 1a letra e mostra \"Hello\"\n",
        "print(s.upper()) # Converte para maiúsculo tudo e mostra \"HELLO\"\n",
        "print(s.rjust(7)) # Justifica à direita e mostra \" hello\"\n",
        "print(s.center(7)) # Centraliza e mostra \" hello \"\n",
        "print(s.replace('1', '(ell)')) # Troca todos '1' por 'ell' e mostra \"he(ell)(ell)o\"\n",
        "print(' world '. strip()) # Tora os espaços e mostra \"world\""
      ],
      "execution_count": null,
      "outputs": [
        {
          "output_type": "stream",
          "text": [
            "hello\n",
            "5\n",
            "hello world\n",
            "hello world 12\n",
            "hello world 12\n",
            "Hello\n",
            "HELLO\n",
            "  hello\n",
            " hello \n",
            "hello\n",
            "world\n"
          ],
          "name": "stdout"
        }
      ]
    },
    {
      "cell_type": "markdown",
      "metadata": {
        "id": "ZZ7mDbfxaB2L"
      },
      "source": [
        "## Manipulação de Lista"
      ]
    },
    {
      "cell_type": "code",
      "metadata": {
        "colab": {
          "base_uri": "https://localhost:8080/"
        },
        "id": "gYf7kScHaGRV",
        "outputId": "57a63302-0b20-4fba-dcd4-6634135d56db"
      },
      "source": [
        "xs = [3, 1, 2, 'texto'] # Cria uma lista\n",
        "print(xs, xs[2]) # Mostra \"[3, 1, 2] 2\"\n",
        "print(xs[-1]) # Indices negativos contam a partir do fim da lista e mostra \"2\"\n",
        "xs[2] = 'texto' # Listas podem ter elementos de tipos diferentes\n",
        "\n",
        "print(xs) # Mostra \"[3, 1, 'texto']\"\n",
        "xs.append('outro') # Coloca um novo elemento no fim da lista\n",
        "print(xs) # Mostra \"[3, 1, 'texto', 'outro']\"\n",
        "x = xs.pop() # Remove e retornra o último elemento da lista\n",
        "print(x, xs) # Mostra \"bar [3, 1, 'texto']\"\n",
        "\n",
        "animais = ['gato', 'cachorro', 'macaco'] # a seguir um Loop com a lista animais\n",
        "for animal in animais:\n",
        "  print(animal)\n",
        "# O recurso de Loop (repetição) acima conheceremos na próxima aula"
      ],
      "execution_count": null,
      "outputs": [
        {
          "output_type": "stream",
          "text": [
            "[3, 1, 2, 'texto'] 2\n",
            "texto\n",
            "[3, 1, 'texto', 'texto']\n",
            "[3, 1, 'texto', 'texto', 'outro']\n",
            "outro [3, 1, 'texto', 'texto']\n",
            "gato\n",
            "cachorro\n",
            "macaco\n"
          ],
          "name": "stdout"
        }
      ]
    },
    {
      "cell_type": "markdown",
      "metadata": {
        "id": "HWJDfW-JcojU"
      },
      "source": [
        "## Manipulação de Dicionários"
      ]
    },
    {
      "cell_type": "code",
      "metadata": {
        "colab": {
          "base_uri": "https://localhost:8080/"
        },
        "id": "FWZnDK3Ocl94",
        "outputId": "8a7fadb6-4c97-4323-d9ac-1ee77f680fdf"
      },
      "source": [
        "d = {'gato': 'cat', 'cachorro': 'dog'} # Cria um novo dicionário com alguns dados\n",
        "print(d['gato']) # Identifica significado de uma entrada e msotra \"cat\"\n",
        "print('gato' in d) # Verifica se uma chave está e mostra \"True\"\n",
        "print(d)\n",
        "d['peixe'] = 'fish' # Inclui um elemento em um dicionário\n",
        "print(d['peixe']) # Mostra \"fish\"\n",
        "\n",
        "#print(d['macaco']) # Mostra KeyError: 'macaco' porque não é uma chave do dicionário d\n",
        "\n",
        "print(d.get('macaco', 'N/A')) # Busca um elemento com valor default para falha, mostra \"N/A\"\n",
        "print(d.get('peixe', 'N/A')) # Busca um elemento com valro default para falha, mostra \"fish\"\n",
        "del d['peixe'] # Remove um elemento do dicionário\n",
        "print(d.get('peixe', 'N/A')) # Busca um elemento com valor default para falha, mostra \"N/A\""
      ],
      "execution_count": null,
      "outputs": [
        {
          "output_type": "stream",
          "text": [
            "cat\n",
            "True\n",
            "{'gato': 'cat', 'cachorro': 'dog'}\n",
            "fish\n",
            "N/A\n",
            "fish\n",
            "N/A\n"
          ],
          "name": "stdout"
        }
      ]
    },
    {
      "cell_type": "markdown",
      "metadata": {
        "id": "RWtTlKdYfsWZ"
      },
      "source": [
        "## Sets"
      ]
    },
    {
      "cell_type": "code",
      "metadata": {
        "colab": {
          "base_uri": "https://localhost:8080/"
        },
        "id": "8xlIsTbcfuR1",
        "outputId": "31536b74-9fed-4577-fe07-80ed5ada6559"
      },
      "source": [
        "# SETS -Sets são conjuntos não ordenados de elementos.\n",
        "# Para sets usamos chaves.\n",
        "\n",
        "animais = {'gato', 'cachorro'}\n",
        "print('gato' in animais) # Verifica se um elemento está no set e mostra \"True\"\n",
        "print('peixe' in animais) # Mostra \"False\"\n",
        "animais.add('peixe') # Inclui um elemento no set\n",
        "print('peixe' in animais) # Mostra \"True\"\n",
        "print(len(animais)) # Identifica o número de elementos do set e mostra \"3\"\n",
        "animais.add('gato') # Incluir um elemento que já existem não faz nada\n",
        "print(len(animais)) # Mostra \"3\"\n",
        "animais.remove('gato') # Remove um elemento do set\n",
        "print(len(animais)) # Mostra \"2\""
      ],
      "execution_count": null,
      "outputs": [
        {
          "output_type": "stream",
          "text": [
            "True\n",
            "False\n",
            "True\n",
            "3\n",
            "3\n",
            "2\n"
          ],
          "name": "stdout"
        }
      ]
    }
  ]
}